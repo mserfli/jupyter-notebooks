{
 "cells": [
  {
   "cell_type": "markdown",
   "metadata": {},
   "source": [
    "# Ensuring an interface without using virtual"
   ]
  },
  {
   "cell_type": "markdown",
   "metadata": {},
   "source": [
    "Curiously_recurring_template_pattern \n",
    "https://en.wikipedia.org/wiki/Curiously_recurring_template_pattern\n",
    "\n",
    "since C++0x\n",
    "https://stackoverflow.com/questions/257288/templated-check-for-the-existence-of-a-class-member-function\n",
    "\n",
    "since C++11\n",
    "https://stackoverflow.com/questions/44317289/c-interface-without-virtual-functions"
   ]
  },
  {
   "cell_type": "code",
   "execution_count": null,
   "metadata": {},
   "outputs": [],
   "source": [
    "#include <type_traits>\n",
    "\n",
    "// workaround for C++0x\n",
    "template <bool COND> class STATIC_ASSERT{ public: STATIC_ASSERT(){}; }; // Will compile for true\n",
    "template <>          class STATIC_ASSERT<false>;                        // Won't compile for false due to missing definition\n",
    "\n",
    "\n",
    "#define DECLARE_HAS_MEM_FUNC(func, name)                                        \\\n",
    "    template<typename T, typename Sign>                                         \\\n",
    "    struct name {                                                               \\\n",
    "        typedef char yes[1];                                                    \\\n",
    "        typedef char no [2];                                                    \\\n",
    "        template <typename U, U> struct type_check;                             \\\n",
    "        template <typename _1> static yes &chk(type_check<Sign, &_1::func > *); \\\n",
    "        template <typename   > static no  &chk(...);                            \\\n",
    "        static bool const value = sizeof(chk<T>(0)) == sizeof(yes);             \\\n",
    "    }\n",
    "\n",
    "template<typename L>\n",
    "class Interface\n",
    "{\n",
    "public:\n",
    "  Interface() {\n",
    "    typedef bool (L :: *foo_functPtr_t) (int);\n",
    "#if (defined(_MSC_VER) && (_MSC_VER >= 1600)) || (__cplusplus>=201103L)\n",
    "    static_assert(has_foo<L, foo_functPtr_t>::value, \"member function foo not implemented\");\n",
    "#else\n",
    "    STATIC_ASSERT<(has_foo<L, foo_functPtr_t>::value)>();\n",
    "#endif\n",
    "  };\n",
    "private:\n",
    "  DECLARE_HAS_MEM_FUNC(foo, has_foo);\n",
    "};\n",
    "\n",
    "class ImplementationOk : public Interface<ImplementationOk>\n",
    "{\n",
    "public:\n",
    "  bool foo(int val) { return val > 0; };\n",
    "};\n",
    "\n",
    "\n",
    "class ImplementationFailed1 : public Interface<ImplementationFailed1>\n",
    "{\n",
    "public:\n",
    "  bool foo(float val) { return val; };\n",
    "};\n",
    "\n",
    "class ImplementationFailed2 : public Interface<ImplementationFailed2>\n",
    "{\n",
    "};\n",
    "\n",
    "int main()\n",
    "{\n",
    "  ImplementationOk a0;       // ok\n",
    "  ImplementationFailed1 a1;  // fails due to wrong signature\n",
    "  ImplementationFailed2 a2;  // fails due to missing foo function\n",
    "}\n",
    "\n"
   ]
  },
  {
   "cell_type": "code",
   "execution_count": null,
   "metadata": {},
   "outputs": [],
   "source": []
  }
 ],
 "metadata": {
  "kernelspec": {
   "display_name": "C++11",
   "language": "C++11",
   "name": "xcpp11"
  },
  "language_info": {
   "codemirror_mode": "text/x-c++src",
   "file_extension": ".cpp",
   "mimetype": "text/x-c++src",
   "name": "c++",
   "version": "11"
  }
 },
 "nbformat": 4,
 "nbformat_minor": 4
}
