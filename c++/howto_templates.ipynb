{
 "cells": [
  {
   "cell_type": "markdown",
   "metadata": {},
   "source": [
    "# Practical guide on C++ templates"
   ]
  },
  {
   "cell_type": "markdown",
   "metadata": {},
   "source": [
    "## Implementing a template function in C++ source file\n",
    "Suppose you have a template function you want to make available only for specific types. In those cases implement the template in a source file and make only those instances available to the linker which are required.\n",
    "```c++\n",
    "template<typename T>\n",
    "void foo()\n",
    "{\n",
    "    // .. do something based on T\n",
    "}\n",
    "\n",
    "template foo<ClassA>(); // generates a function for ClassA in the object file\n",
    "```"
   ]
  },
  {
   "cell_type": "markdown",
   "metadata": {},
   "source": [
    "## Implementing special behaviour based on compile switches without messing up the code\n",
    "Suppose you have a function foo() whose implementation can be split into 3 parts.\n",
    "```c++\n",
    "void foo()\n",
    "{\n",
    "    doA();\n",
    "    doB();\n",
    "    doC();\n",
    "}\n",
    "```\n",
    "Now somebody tells you that we need a compile switch for doB() because it has to be implemented differently. Of course you can achieve this by implementing some preprocessor statements which typically messes up the code if you have many compiler switches. Instead you can use templates, i.e. the following"
   ]
  },
  {
   "cell_type": "code",
   "execution_count": null,
   "metadata": {},
   "outputs": [],
   "source": [
    "#include <iostream>\n",
    "\n",
    "#define MY_COMPILE_SWITCH 1\n",
    "\n",
    "template<bool SWITCH>\n",
    "void doB();\n",
    "\n",
    "template<>\n",
    "void doB<true>()\n",
    "{\n",
    "    std::cout << \"switch is 1\" << std::endl;\n",
    "}\n",
    "\n",
    "template<>\n",
    "void doB<false>()\n",
    "{\n",
    "    std::cout << \"switch is 0\" << std::endl;\n",
    "}\n",
    "\n",
    "\n",
    "void foo()\n",
    "{\n",
    "    // doA\n",
    "    doB<MY_COMPILE_SWITCH>();\n",
    "    // doC\n",
    "}\n"
   ]
  },
  {
   "cell_type": "code",
   "execution_count": null,
   "metadata": {},
   "outputs": [],
   "source": [
    "foo();"
   ]
  },
  {
   "cell_type": "code",
   "execution_count": null,
   "metadata": {},
   "outputs": [],
   "source": []
  }
 ],
 "metadata": {
  "kernelspec": {
   "display_name": "C++17",
   "language": "C++17",
   "name": "xcpp17"
  },
  "language_info": {
   "codemirror_mode": "text/x-c++src",
   "file_extension": ".cpp",
   "mimetype": "text/x-c++src",
   "name": "c++",
   "version": "17"
  }
 },
 "nbformat": 4,
 "nbformat_minor": 4
}
