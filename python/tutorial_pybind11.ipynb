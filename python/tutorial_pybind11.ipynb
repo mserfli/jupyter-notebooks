{
 "cells": [
  {
   "cell_type": "markdown",
   "metadata": {},
   "source": [
    "# Tutorial PyBind11\n",
    "## Useful links\n",
    "* https://pybind11.readthedocs.io/en/stable/index.html  (the official pybind11 documentation)\n",
    "* https://github.com/scikit-build/scikit-build-sample-projects (pybind11 example module using Python scikit-build as a buildsystem)\n",
    "* https://github.com/tdegeus/pybind11_examples (examples on passing data between Python and C++ using pybind11)"
   ]
  },
  {
   "cell_type": "markdown",
   "metadata": {},
   "source": [
    "## Using scikit-build\n",
    "### build commands\n",
    "```bash\n",
    "python setup.py develop --user test # compiles in release mode, installs in develop mode and executes all tests\n",
    "python setup.py develop --user --build-type=Debug # compiles in debug mode\n",
    "```\n",
    "### debugging in Visual Studio\n",
    "1. Create a separate conda environment used for debugging\n",
    "1. In order to debug the extension you have to build numpy from scratch. Beforehand you have to uninstall numpy, so run **conda uninstall numpy**.\n",
    "1. Download the latest numpy release from https://github.com/numpy/numpy/releases, unpack the ZIP, change into the directory and call **pip install . --user**\n",
    "1. Change into your python extension folder and call **python setup.py develop --user --build-type=Debug -G \"Visual Studio 15 2017 Win64\"** to build a Visual Studio Solution\n",
    "1. Open the solution located in **_skbuild/win-amd64-3.7/cmake-build/\\<xyz\\>.sln**\n",
    "1. Add a PythonApplication project to the solution and choose the right Conda environment\n",
    "1. Open the project settings and enable **native debugging** in the tab Debug and check again the correct Interpreter in tab General\n",
    "1. Set the PythonApplication as your StartUp Project\n",
    "1. Write your Python code and set breakpoints in your Python and/or C++ code as required\n",
    "1. Start Debugging"
   ]
  },
  {
   "cell_type": "markdown",
   "metadata": {},
   "source": [
    "## Development hints"
   ]
  },
  {
   "cell_type": "markdown",
   "metadata": {},
   "source": [
    "### Mixing C++/Python in one module\n",
    "Take care on writing the \\_\\_init\\_\\_.py files\n",
    "* create subfolders according to the submodule name, e.g. submodule\n",
    "* in the PyBind11 code name prefix the submodule name with an \\_, e.g. \\_sbmodule\n",
    "* put a \\_\\_init\\_\\_.py into the submodule folder and write something like this\n",
    "\n",
    "```python\n",
    "from _pyext._submodule import *\n",
    "from .core import update   # imports update function defined in submodule/core.py \n",
    "```\n",
    "\n",
    "* your main \\_\\_init\\_\\_.py should look like this\n",
    "\n",
    "```python\n",
    "import os, sys\n",
    "sys.path.append(os.path.dirname(os.path.abspath( __file__ )))\n",
    "from _pyext import _submodule as submodule\n",
    "from . import submodule\n",
    "```"
   ]
  },
  {
   "cell_type": "markdown",
   "metadata": {},
   "source": [
    "### Splitting module definitions in multiple files\n",
    "Simply put in you main.cpp\n",
    "```c++\n",
    "PYBIND11_MODULE(_pyext, m) {\n",
    "  pyext::a::init_module(m);\n",
    "}\n",
    "```\n",
    "Then you have to implement in another C++ file\n",
    "```c++\n",
    "void pyext::a::init_module(py::module& m)\n",
    "{\n",
    "  py::module m_a = m.def_submodule(\"_a\");\n",
    "  // --- functions\n",
    "  m_a.def(\"prepare\", &pyext::a::prepare);\n",
    "}\n",
    "```"
   ]
  },
  {
   "cell_type": "markdown",
   "metadata": {},
   "source": [
    "### PyBind11 doesn't support natively C-style arrays\n",
    "Suppose you want to have read/write access to the following C data structure.\n",
    "```c++\n",
    "typedef struct {\n",
    "    float number;\n",
    "    int   array[10];\n",
    "} StructWithCStyleArrays_t;\n",
    "```\n",
    "\n",
    "Implement the following template functions \n",
    "```c++\n",
    "/// function to read from a C-style array of size N into a std::array which is compatible to pybind11\n",
    "template<typename T, int N>\n",
    "std::array<T, N> getCArray(const T* arr)\n",
    "{\n",
    "  std::array<T, N> ndarray;\n",
    "  std::memcpy(ndarray.data(), arr, N * sizeof(arr[0]));\n",
    "  return ndarray;\n",
    "}\n",
    "\n",
    "/// function to write to a C-style array of size N given a std::array which is compatible to pybind11\n",
    "template<typename T, int N>\n",
    "void setCArray(T* arr, const std::array<T, N>& ndarray)\n",
    "{\n",
    "  std::memcpy(arr, ndarray.data(), N * sizeof(T));\n",
    "}\n",
    "```\n",
    "and use them in your binding code as following\n",
    "```c++\n",
    "PYBIND11_MODULE(_pytp, m) {\n",
    "  py::class_<StructWithCStyleArrays_t>(m, \"StructWithCStyleArrays_t\")\n",
    "    .def(py::init<>())\n",
    "    .def_readwrite(\"number\", &StructWithCStyleArrays_t::number)\n",
    "    .def_property(\"array\",\n",
    "      [](const StructWithCStyleArrays_t& p)->std::array<int, 10>     { return getCArray<int, 10>(p.array); },\n",
    "      [](StructWithCStyleArrays_t& p, const std::array<int, 10> val) { setCArray<int, 10>(p.array, val); })\n",
    "    }\n",
    "}\n",
    "```"
   ]
  },
  {
   "cell_type": "markdown",
   "metadata": {},
   "source": [
    "### Read/Write access to nested structures\n",
    "Suppose StructB_t is a nested attribute of StructA_t with name **B**.\n",
    "```c++\n",
    "    .def_property(\"nested_structure\",\n",
    "      [](const StructA_t& p)->StructB_t                            { return p.B; },\n",
    "      [](StructA_t& p, const StructB_t& val)                       { p.B = val; });\n",
    "```"
   ]
  },
  {
   "cell_type": "markdown",
   "metadata": {},
   "source": [
    "### Initialize all attributes of a C/C++ structure given a dictionary with keys according to the attribute names\n",
    "```python\n",
    "def get_struct_members(struct: object) -> list:\n",
    "    \"\"\"\n",
    "    Returns a list of all member variables of the given struct or class object\n",
    "    @param struct: a class or struct object\n",
    "    @return: list of member names\n",
    "    \"\"\"\n",
    "    members = [x for x in dir(struct) if x[:2] != '__']\n",
    "    return members\n",
    "\n",
    "\n",
    "def init_struct_with_dict(struct: object, dictionary: dict, struct_key: str) -> object:\n",
    "    \"\"\"\n",
    "    Initializes recursively struct members of a Python class (pure or pybind11 class) with public read/write\n",
    "    access with data from a dictionary. The dictionary contains all the struct members as keys prefixed with a\n",
    "    root struct key name.\n",
    "    @param struct: class or struct object to be filled with data\n",
    "    @param dictionary: input dictionary with columns according to the struct member names\n",
    "    @param struct_key: prefix string for column names available in the dictionary\n",
    "    @return: initialized struct object with data from dictionary\n",
    "    \"\"\"\n",
    "    if struct_key and not struct_key.endswith('.'):\n",
    "        struct_key = struct_key + '.'\n",
    "\n",
    "    # contains atomic members like float, int attributes as well as struct members\n",
    "    struct_members = set([struct_key + x for x in get_struct_members(struct)])\n",
    "    # the dictionary keys represent the leaves of all structures, i.e. atomic attributes\n",
    "    # thus the intersection with struct_members will give us all atomic members which can be directly set\n",
    "    atomic_members = struct_members.intersection(dictionary.keys())\n",
    "    # the remaining members are struct members requiring a recursive init call\n",
    "    complex_members = struct_members - atomic_members\n",
    "\n",
    "    # init all atomic members directly\n",
    "    for dict_key in atomic_members:\n",
    "        name = dict_key.split('.')[-1]\n",
    "        call_str = f'struct.{name} = {dictionary[dict_key]}'\n",
    "        exec(call_str)\n",
    "\n",
    "    # init recursively all substructures\n",
    "    for dict_key in complex_members:\n",
    "        name = dict_key.split('.')[-1]\n",
    "        call_str = f\"struct.{name} = init_struct_with_dict( struct.{name}, dictionary, '{dict_key}' )\"\n",
    "        exec(call_str)\n",
    "\n",
    "    return struct\n",
    "```\n",
    "With those functions you can easily write\n",
    "```python\n",
    "data = pyext.StructA_t()  # create an instance of a C/C++ structure\n",
    "data = pyext.init_struct_with_dict(data, data_dict, '')\n",
    "```\n",
    "which then looks for matching keys in the dictionary to do the assignment to the attribute. Further this function will initialize all nested structure recursively."
   ]
  },
  {
   "cell_type": "code",
   "execution_count": null,
   "metadata": {},
   "outputs": [],
   "source": []
  }
 ],
 "metadata": {
  "kernelspec": {
   "display_name": "Python 3",
   "language": "python",
   "name": "python3"
  },
  "language_info": {
   "codemirror_mode": {
    "name": "ipython",
    "version": 3
   },
   "file_extension": ".py",
   "mimetype": "text/x-python",
   "name": "python",
   "nbconvert_exporter": "python",
   "pygments_lexer": "ipython3",
   "version": "3.7.6"
  }
 },
 "nbformat": 4,
 "nbformat_minor": 4
}
