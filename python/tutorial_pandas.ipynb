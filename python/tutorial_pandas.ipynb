{
 "cells": [
  {
   "cell_type": "markdown",
   "metadata": {},
   "source": [
    "# Tutorial Pandas\n",
    "\n",
    "## DataFrame.loc[]\n",
    "In order to access a specific data item you have to use DataFrame.loc[(value_index_1, value_index_2, ...)] \n",
    "```Python\n",
    "state.loc[(1)]  # returns a DataFrame containing all data of object id=1\n",
    "state.loc[(1), ('ts','x')]  # returns a DataFrame with selected columns of object id=1\n",
    "state.loc[(1)].ts.values # returns an array containing the values of column 'ts'\n",
    "state.index.get_level_values(0).unique() # lists the available object ids\n",
    "\n",
    "```\n",
    "## iterating over all objects\n",
    "In order to iterate object-wise over the DataFrame it is preferable to use the groupby function\n",
    "```Python\n",
    "# iterates over all objects and prints its corresponding DataFrame with removed column 'oid'\n",
    "# on obj_state you can apply again the .loc[] method to access its data\n",
    "for oid, obj_state in state.groupby('oid'):\n",
    "    display(obj_state)\n",
    "    \n",
    "```\n",
    "## index modifications\n",
    "```Python\n",
    "DataFrame.reset_index() # flattens the DataFrame and makes previous index columns to regular columns\n",
    "DataFrame.set_index(['oid','eid'], inplace=True)  # sets the index in the given order according to the given column names\n",
    "\n",
    "# In order to keep a good access performance it is preferable to sort the index after index modifications. \n",
    "my_dataframe = my_dataframe.sort_index() \n",
    "    \n",
    "```"
   ]
  },
  {
   "cell_type": "code",
   "execution_count": null,
   "metadata": {},
   "outputs": [],
   "source": []
  }
 ],
 "metadata": {
  "kernelspec": {
   "display_name": "Python 3",
   "language": "python",
   "name": "python3"
  },
  "language_info": {
   "codemirror_mode": {
    "name": "ipython",
    "version": 3
   },
   "file_extension": ".py",
   "mimetype": "text/x-python",
   "name": "python",
   "nbconvert_exporter": "python",
   "pygments_lexer": "ipython3",
   "version": "3.7.6"
  }
 },
 "nbformat": 4,
 "nbformat_minor": 4
}
