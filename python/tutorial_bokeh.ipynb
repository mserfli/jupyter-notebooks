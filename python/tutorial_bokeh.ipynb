{
 "cells": [
  {
   "cell_type": "markdown",
   "metadata": {},
   "source": [
    "# Tutorial Bokeh\n",
    "## Minimum import statements"
   ]
  },
  {
   "cell_type": "code",
   "execution_count": null,
   "metadata": {},
   "outputs": [],
   "source": [
    "## Minimum import statements\n",
    "from bokeh.plotting import figure, output_notebook, show\n",
    "from bokeh.layouts import gridplot, layout, column, row\n",
    "from bokeh.palettes import Category10  # provides a colorpalette with up to 10 colors\n",
    "output_notebook()"
   ]
  },
  {
   "cell_type": "markdown",
   "metadata": {},
   "source": [
    "## The figure statement\n",
    "```python\n",
    "p=figure()\n",
    "# useful optional arguments\n",
    "#   'x_axis_label' and 'y_axis_label'\n",
    "#   'title' ... use f-strings to add construct a string including variables, \n",
    "#               e.g. 'title' = f'A figure title with threshold={variable}'\n",
    "#   plot_height and\n",
    "## The figure statement\n",
    "```python\n",
    "p=figure()\n",
    "# useful optional arguments\n",
    "#   'x_axis_label' and 'y_axis_label'\n",
    "#   'title' ... use f-strings to add construct a string including variables, \n",
    "#               e.g. 'title' = f'A figure title with threshold={variable}'\n",
    "#   plot_height and plot_width\n",
    "#   match_aspect=True ... sets equal aspect ratio for both axes\n",
    "#   tools ... it is preferable to create a variable containing all required tools and assign it to the figure parameter,\n",
    "#             e.g. tools_used=\"pan,wheel_zoom,box_zoom,reset,save,hover,crosshair\"\n",
    "#   toolbar_location ... position of the toolbar ['above','below','left','right']\n",
    "#   x_range = p1.x_range ... uses the same visible x_range used by figure p1 (useful for zooming, moving)\n",
    "​\n",
    "```"
   ]
  },
  {
   "cell_type": "markdown",
   "metadata": {},
   "source": [
    "## Glyphs\n",
    "The Figure object provides several methods to plot lines or glyphs, e.g. line, cross, circle, ... \n",
    "```python\n",
    "p=figure()\n",
    "p.line(x,y)\n",
    "# useful optional arguments\n",
    "#   color ... used color, e.g. Category10[4][0]  first color of reduced palette with 4 colors\n",
    "#   size  ... marker size\n",
    "#   line_width\n",
    "#   line_dash ... ['dashed','solid','dotted',...]\n",
    "#   legend_label ... a name for the plot shown in the legend\n",
    "#                    If you want to combine line and a marker plot for the same data you should assign the same label.\n",
    "\n",
    "p.legend.click_policy=\"hide\"  # this will hide the plot if you click on its label in the legend\n",
    "\n",
    "```\n"
   ]
  },
  {
   "cell_type": "code",
   "execution_count": null,
   "metadata": {},
   "outputs": [],
   "source": []
  }
 ],
 "metadata": {
  "kernelspec": {
   "display_name": "Python 3",
   "language": "python",
   "name": "python3"
  },
  "language_info": {
   "codemirror_mode": {
    "name": "ipython",
    "version": 3
   },
   "file_extension": ".py",
   "mimetype": "text/x-python",
   "name": "python",
   "nbconvert_exporter": "python",
   "pygments_lexer": "ipython3",
   "version": "3.7.6"
  }
 },
 "nbformat": 4,
 "nbformat_minor": 4
}
